{
 "cells": [
  {
   "cell_type": "code",
   "execution_count": 8,
   "metadata": {},
   "outputs": [
    {
     "name": "stdout",
     "output_type": "stream",
     "text": [
      "\u001b[31mERROR: Could not find a version that satisfies the requirement warnings (from versions: none)\u001b[0m\u001b[31m\n",
      "\u001b[0m\u001b[31mERROR: No matching distribution found for warnings\u001b[0m\u001b[31m\n",
      "\u001b[0m"
     ]
    }
   ],
   "source": [
    "!pip3 install warnings"
   ]
  },
  {
   "cell_type": "markdown",
   "metadata": {},
   "source": [
    "# Import Required Libraries\n",
    "Import the necessary libraries, including pandas, numpy, sklearn, and matplotlib."
   ]
  },
  {
   "cell_type": "code",
   "execution_count": 10,
   "metadata": {},
   "outputs": [
    {
     "name": "stderr",
     "output_type": "stream",
     "text": [
      "/var/folders/ht/dcxvmlvx0_54q0pjbvhhld5c0000gq/T/ipykernel_58366/3443273337.py:4: DeprecationWarning: \n",
      "Pyarrow will become a required dependency of pandas in the next major release of pandas (pandas 3.0),\n",
      "(to allow more performant data types, such as the Arrow string type, and better interoperability with other libraries)\n",
      "but was not found to be installed on your system.\n",
      "If this would cause problems for you,\n",
      "please provide us feedback at https://github.com/pandas-dev/pandas/issues/54466\n",
      "        \n",
      "  import pandas as pd\n"
     ]
    }
   ],
   "source": [
    "# Importing the necessary libraries\n",
    "import sys\n",
    "# pandas for data manipulation and analysis\n",
    "import pandas as pd\n",
    "\n",
    "# numpy for numerical computing\n",
    "import numpy as np\n",
    "\n",
    "# sklearn for machine learning\n",
    "from sklearn.model_selection import train_test_split\n",
    "from sklearn.linear_model import LinearRegression\n",
    "from sklearn import metrics\n",
    "\n",
    "# matplotlib for data visualization\n",
    "import matplotlib.pyplot as plt\n",
    "\n",
    "# Seaborn for statistical data visualization\n",
    "import seaborn as sns\n",
    "\n",
    "# To ignore any warnings\n",
    "import warnings\n",
    "warnings.filterwarnings('ignore')"
   ]
  },
  {
   "cell_type": "markdown",
   "metadata": {},
   "source": [
    "# Load and Preprocess the Data\n",
    "Load the dataset and preprocess it by handling missing values and outliers."
   ]
  },
  {
   "cell_type": "code",
   "execution_count": null,
   "metadata": {},
   "outputs": [
    {
     "ename": "",
     "evalue": "",
     "output_type": "error",
     "traceback": [
      "\u001b[1;31mFailed to start the Kernel. \n",
      "\u001b[1;31mView Jupyter <a href='command:jupyter.viewOutput'>log</a> for further details."
     ]
    }
   ],
   "source": [
    "# Load the dataset\n",
    "df = pd.read_csv('insulin_data.csv')\n",
    "\n",
    "# Display the first few rows of the dataframe\n",
    "print(df.head())\n",
    "\n",
    "# Check the info of the dataframe\n",
    "print(df.info())\n",
    "\n",
    "# Check for missing values\n",
    "print(df.isnull().sum())\n",
    "\n",
    "# Fill missing values with the mean of the respective column\n",
    "df.fillna(df.mean(), inplace=True)\n",
    "\n",
    "# Check for outliers in the 'carb_intake', 'current_blood_sugar', 'current_weight' columns\n",
    "Q1 = df[['carb_intake', 'current_blood_sugar', 'current_weight']].quantile(0.25)\n",
    "Q3 = df[['carb_intake', 'current_blood_sugar', 'current_weight']].quantile(0.75)\n",
    "IQR = Q3 - Q1\n",
    "\n",
    "# Remove outliers\n",
    "df = df[~((df[['carb_intake', 'current_blood_sugar', 'current_weight']] < (Q1 - 1.5 * IQR)) | (df[['carb_intake', 'current_blood_sugar', 'current_weight']] > (Q3 + 1.5 * IQR))).any(axis=1)]\n",
    "\n",
    "# Display the first few rows of the cleaned dataframe\n",
    "print(df.head())"
   ]
  },
  {
   "cell_type": "markdown",
   "metadata": {},
   "source": [
    "# Exploratory Data Analysis\n",
    "Perform exploratory data analysis to understand the data better and find any patterns or correlations."
   ]
  },
  {
   "cell_type": "code",
   "execution_count": null,
   "metadata": {},
   "outputs": [
    {
     "ename": "",
     "evalue": "",
     "output_type": "error",
     "traceback": [
      "\u001b[1;31mFailed to start the Kernel. \n",
      "\u001b[1;31mView Jupyter <a href='command:jupyter.viewOutput'>log</a> for further details."
     ]
    }
   ],
   "source": [
    "# Exploratory Data Analysis\n",
    "\n",
    "# Summary statistics\n",
    "print(df.describe())\n",
    "\n",
    "# Correlation matrix\n",
    "corr_matrix = df.corr()\n",
    "print(corr_matrix)\n",
    "\n",
    "# Heatmap of the correlation matrix\n",
    "plt.figure(figsize=(10, 8))\n",
    "sns.heatmap(corr_matrix, annot=True, cmap='coolwarm')\n",
    "plt.title('Correlation Heatmap')\n",
    "plt.show()\n",
    "\n",
    "# Pairplot to visualize the relationship between features\n",
    "sns.pairplot(df)\n",
    "plt.show()\n",
    "\n",
    "# Histograms for each variable in df\n",
    "df.hist(bins=30, figsize=(15, 10))\n",
    "plt.show()\n",
    "\n",
    "# Boxplots for 'carb_intake', 'current_blood_sugar', 'current_weight'\n",
    "plt.figure(figsize=(15, 10))\n",
    "plt.subplot(2, 2, 1)\n",
    "sns.boxplot(x=df['carb_intake'])\n",
    "plt.title('Carb Intake Boxplot')\n",
    "\n",
    "plt.subplot(2, 2, 2)\n",
    "sns.boxplot(x=df['current_blood_sugar'])\n",
    "plt.title('Current Blood Sugar Boxplot')\n",
    "\n",
    "plt.subplot(2, 2, 3)\n",
    "sns.boxplot(x=df['current_weight'])\n",
    "plt.title('Current Weight Boxplot')\n",
    "\n",
    "plt.tight_layout()\n",
    "plt.show()"
   ]
  },
  {
   "cell_type": "markdown",
   "metadata": {},
   "source": [
    "# Data Splitting\n",
    "Split the dataset into training and testing sets."
   ]
  },
  {
   "cell_type": "code",
   "execution_count": null,
   "metadata": {},
   "outputs": [
    {
     "ename": "",
     "evalue": "",
     "output_type": "error",
     "traceback": [
      "\u001b[1;31mFailed to start the Kernel. \n",
      "\u001b[1;31mView Jupyter <a href='command:jupyter.viewOutput'>log</a> for further details."
     ]
    }
   ],
   "source": [
    "# Define the features and the target variable\n",
    "X = df[['carb_intake', 'current_blood_sugar', 'current_weight']]\n",
    "y = df['insulin_needs']\n",
    "\n",
    "# Split the dataset into training and testing sets\n",
    "X_train, X_test, y_train, y_test = train_test_split(X, y, test_size=0.2, random_state=42)\n",
    "\n",
    "# Check the shapes of the training and testing sets\n",
    "print(\"Shape of X_train: \", X_train.shape)\n",
    "print(\"Shape of y_train: \", y_train.shape)\n",
    "print(\"Shape of X_test: \", X_test.shape)\n",
    "print(\"Shape of y_test: \", y_test.shape)"
   ]
  },
  {
   "cell_type": "markdown",
   "metadata": {},
   "source": [
    "# Model Building\n",
    "Build a machine learning model using an appropriate algorithm."
   ]
  },
  {
   "cell_type": "code",
   "execution_count": null,
   "metadata": {},
   "outputs": [
    {
     "ename": "",
     "evalue": "",
     "output_type": "error",
     "traceback": [
      "\u001b[1;31mFailed to start the Kernel. \n",
      "\u001b[1;31mView Jupyter <a href='command:jupyter.viewOutput'>log</a> for further details."
     ]
    }
   ],
   "source": [
    "# Model Building\n",
    "\n",
    "# Initialize the Linear Regression model\n",
    "model = LinearRegression()\n",
    "\n",
    "# Fit the model with the training data\n",
    "model.fit(X_train, y_train)\n",
    "\n",
    "# Predict the target variable for the training data\n",
    "y_train_pred = model.predict(X_train)\n",
    "\n",
    "# Predict the target variable for the testing data\n",
    "y_test_pred = model.predict(X_test)\n",
    "\n",
    "# Calculate and print the R-squared value for the training data\n",
    "r2_train = metrics.r2_score(y_train, y_train_pred)\n",
    "print(\"R-squared value for the training data: \", r2_train)\n",
    "\n",
    "# Calculate and print the R-squared value for the testing data\n",
    "r2_test = metrics.r2_score(y_test, y_test_pred)\n",
    "print(\"R-squared value for the testing data: \", r2_test)\n",
    "\n",
    "# Calculate and print the Mean Squared Error for the training data\n",
    "mse_train = metrics.mean_squared_error(y_train, y_train_pred)\n",
    "print(\"Mean Squared Error for the training data: \", mse_train)\n",
    "\n",
    "# Calculate and print the Mean Squared Error for the testing data\n",
    "mse_test = metrics.mean_squared_error(y_test, y_test_pred)\n",
    "print(\"Mean Squared Error for the testing data: \", mse_test)\n",
    "\n",
    "# Calculate and print the Root Mean Squared Error for the training data\n",
    "rmse_train = np.sqrt(mse_train)\n",
    "print(\"Root Mean Squared Error for the training data: \", rmse_train)\n",
    "\n",
    "# Calculate and print the Root Mean Squared Error for the testing data\n",
    "rmse_test = np.sqrt(mse_test)\n",
    "print(\"Root Mean Squared Error for the testing data: \", rmse_test)"
   ]
  },
  {
   "cell_type": "markdown",
   "metadata": {},
   "source": [
    "# Model Training\n",
    "Train the model using the training set."
   ]
  },
  {
   "cell_type": "code",
   "execution_count": null,
   "metadata": {},
   "outputs": [
    {
     "ename": "",
     "evalue": "",
     "output_type": "error",
     "traceback": [
      "\u001b[1;31mFailed to start the Kernel. \n",
      "\u001b[1;31mView Jupyter <a href='command:jupyter.viewOutput'>log</a> for further details."
     ]
    }
   ],
   "source": [
    "# Model Training\n",
    "\n",
    "# Initialize the Linear Regression model\n",
    "model = LinearRegression()\n",
    "\n",
    "# Fit the model with the training data\n",
    "model.fit(X_train, y_train)\n",
    "\n",
    "# Predict the target variable for the training data\n",
    "y_train_pred = model.predict(X_train)\n",
    "\n",
    "# Predict the target variable for the testing data\n",
    "y_test_pred = model.predict(X_test)\n",
    "\n",
    "# Calculate and print the R-squared value for the training data\n",
    "r2_train = metrics.r2_score(y_train, y_train_pred)\n",
    "print(\"R-squared value for the training data: \", r2_train)\n",
    "\n",
    "# Calculate and print the R-squared value for the testing data\n",
    "r2_test = metrics.r2_score(y_test, y_test_pred)\n",
    "print(\"R-squared value for the testing data: \", r2_test)\n",
    "\n",
    "# Calculate and print the Mean Squared Error for the training data\n",
    "mse_train = metrics.mean_squared_error(y_train, y_train_pred)\n",
    "print(\"Mean Squared Error for the training data: \", mse_train)\n",
    "\n",
    "# Calculate and print the Mean Squared Error for the testing data\n",
    "mse_test = metrics.mean_squared_error(y_test, y_test_pred)\n",
    "print(\"Mean Squared Error for the testing data: \", mse_test)\n",
    "\n",
    "# Calculate and print the Root Mean Squared Error for the training data\n",
    "rmse_train = np.sqrt(mse_train)\n",
    "print(\"Root Mean Squared Error for the training data: \", rmse_train)\n",
    "\n",
    "# Calculate and print the Root Mean Squared Error for the testing data\n",
    "rmse_test = np.sqrt(mse_test)\n",
    "print(\"Root Mean Squared Error for the testing data: \", rmse_test)"
   ]
  },
  {
   "cell_type": "markdown",
   "metadata": {},
   "source": [
    "# Model Evaluation\n",
    "Evaluate the model's performance using the testing set."
   ]
  },
  {
   "cell_type": "code",
   "execution_count": null,
   "metadata": {},
   "outputs": [
    {
     "ename": "",
     "evalue": "",
     "output_type": "error",
     "traceback": [
      "\u001b[1;31mFailed to start the Kernel. \n",
      "\u001b[1;31mView Jupyter <a href='command:jupyter.viewOutput'>log</a> for further details."
     ]
    }
   ],
   "source": [
    "# Model Evaluation\n",
    "\n",
    "# Calculate and print the Mean Absolute Error for the training data\n",
    "mae_train = metrics.mean_absolute_error(y_train, y_train_pred)\n",
    "print(\"Mean Absolute Error for the training data: \", mae_train)\n",
    "\n",
    "# Calculate and print the Mean Absolute Error for the testing data\n",
    "mae_test = metrics.mean_absolute_error(y_test, y_test_pred)\n",
    "print(\"Mean Absolute Error for the testing data: \", mae_test)\n",
    "\n",
    "# Calculate and print the Mean Squared Log Error for the training data\n",
    "msle_train = metrics.mean_squared_log_error(y_train, y_train_pred)\n",
    "print(\"Mean Squared Log Error for the training data: \", msle_train)\n",
    "\n",
    "# Calculate and print the Mean Squared Log Error for the testing data\n",
    "msle_test = metrics.mean_squared_log_error(y_test, y_test_pred)\n",
    "print(\"Mean Squared Log Error for the testing data: \", msle_test)\n",
    "\n",
    "# Calculate and print the Median Absolute Error for the training data\n",
    "medae_train = metrics.median_absolute_error(y_train, y_train_pred)\n",
    "print(\"Median Absolute Error for the training data: \", medae_train)\n",
    "\n",
    "# Calculate and print the Median Absolute Error for the testing data\n",
    "medae_test = metrics.median_absolute_error(y_test, y_test_pred)\n",
    "print(\"Median Absolute Error for the testing data: \", medae_test)\n",
    "\n",
    "# Plotting the actual vs predicted values for the training set\n",
    "plt.scatter(y_train, y_train_pred)\n",
    "plt.xlabel(\"Actual Insulin Needs\")\n",
    "plt.ylabel(\"Predicted Insulin Needs\")\n",
    "plt.title(\"Actual vs Predicted Insulin Needs for Training Set\")\n",
    "plt.show()\n",
    "\n",
    "# Plotting the actual vs predicted values for the testing set\n",
    "plt.scatter(y_test, y_test_pred)\n",
    "plt.xlabel(\"Actual Insulin Needs\")\n",
    "plt.ylabel(\"Predicted Insulin Needs\")\n",
    "plt.title(\"Actual vs Predicted Insulin Needs for Testing Set\")\n",
    "plt.show()"
   ]
  },
  {
   "cell_type": "markdown",
   "metadata": {},
   "source": [
    "# Predict Insulin Needs\n",
    "Use the trained model to predict insulin needs based on carb intake, current blood sugar, and current weight."
   ]
  },
  {
   "cell_type": "code",
   "execution_count": null,
   "metadata": {},
   "outputs": [
    {
     "ename": "",
     "evalue": "",
     "output_type": "error",
     "traceback": [
      "\u001b[1;31mFailed to start the Kernel. \n",
      "\u001b[1;31mView Jupyter <a href='command:jupyter.viewOutput'>log</a> for further details."
     ]
    }
   ],
   "source": [
    "# Predict Insulin Needs\n",
    "\n",
    "# Define the function to predict insulin needs\n",
    "def predict_insulin_needs(carb_intake, current_blood_sugar, current_weight):\n",
    "    # Convert the inputs to numpy array\n",
    "    inputs = np.array([carb_intake, current_blood_sugar, current_weight]).reshape(1, -1)\n",
    "    \n",
    "    # Use the trained model to predict insulin needs\n",
    "    predicted_insulin_needs = model.predict(inputs)\n",
    "    \n",
    "    # Return the predicted insulin needs\n",
    "    return predicted_insulin_needs[0]\n",
    "\n",
    "# Test the function with some inputs\n",
    "carb_intake = 200\n",
    "current_blood_sugar = 150\n",
    "current_weight = 70\n",
    "\n",
    "predicted_insulin_needs = predict_insulin_needs(carb_intake, current_blood_sugar, current_weight)\n",
    "\n",
    "print(\"Predicted Insulin Needs: \", predicted_insulin_needs)"
   ]
  },
  {
   "cell_type": "markdown",
   "metadata": {},
   "source": [
    "# Update Weight\n",
    "Update the weight based on the previous prediction if no weight is entered."
   ]
  },
  {
   "cell_type": "code",
   "execution_count": null,
   "metadata": {},
   "outputs": [
    {
     "ename": "",
     "evalue": "",
     "output_type": "error",
     "traceback": [
      "\u001b[1;31mFailed to start the Kernel. \n",
      "\u001b[1;31mView Jupyter <a href='command:jupyter.viewOutput'>log</a> for further details."
     ]
    }
   ],
   "source": [
    "# Update Weight\n",
    "\n",
    "# Define the function to update weight\n",
    "def update_weight(previous_weight, weight=None):\n",
    "    # If no weight is entered, use the previous prediction\n",
    "    if weight is None:\n",
    "        weight = previous_weight\n",
    "    \n",
    "    # Return the updated weight\n",
    "    return weight\n",
    "\n",
    "# Test the function with some inputs\n",
    "previous_weight = 70\n",
    "new_weight = update_weight(previous_weight)\n",
    "\n",
    "print(\"Updated Weight: \", new_weight)"
   ]
  }
 ],
 "metadata": {
  "kernelspec": {
   "display_name": ".venv",
   "language": "python",
   "name": "python3"
  },
  "language_info": {
   "codemirror_mode": {
    "name": "ipython",
    "version": 3
   },
   "file_extension": ".py",
   "mimetype": "text/x-python",
   "name": "python",
   "nbconvert_exporter": "python",
   "pygments_lexer": "ipython3",
   "version": "3.11.5"
  },
  "orig_nbformat": 4
 },
 "nbformat": 4,
 "nbformat_minor": 2
}
